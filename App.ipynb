{
 "cells": [
  {
   "cell_type": "code",
   "execution_count": 3,
   "id": "39bca41a",
   "metadata": {},
   "outputs": [
    {
     "name": "stdout",
     "output_type": "stream",
     "text": [
      "  Region Soil_Type    Crop  Rainfall_mm  Temperature_Celsius  Fertilizer_Used  \\\n",
      "0  North      Loam   Maize   269.628359            33.568049             True   \n",
      "1  South      Silt  Barley   277.096946            31.503174            False   \n",
      "2  South    Chalky   Maize   872.538244            34.665578            False   \n",
      "3  North      Loam   Wheat   475.905625            28.462172            False   \n",
      "4  North      Clay    Rice   381.067981            19.256107             True   \n",
      "\n",
      "   Irrigation_Used Weather_Condition  Days_to_Harvest  Yield_tons_per_hectare  \n",
      "0             True             Sunny       100.778743                5.015345  \n",
      "1             True             Rainy        90.869031                2.850527  \n",
      "2            False             Sunny        84.610447                5.698175  \n",
      "3             True             Sunny        97.719303                3.840846  \n",
      "4            False            Cloudy        68.468178                3.166763  \n"
     ]
    }
   ],
   "source": [
    "import pandas as pd\n",
    "\n",
    "df = pd.read_csv(\"crop_yield_50000.csv\")\n",
    "print(df.head())\n"
   ]
  },
  {
   "cell_type": "markdown",
   "id": "0611bab0",
   "metadata": {},
   "source": [
    "from sklearn.model_selection import train_test_split\n",
    "from sklearn.preprocessing import LabelEncoder, StandardScaler\n",
    "\n",
    "X = df.drop(\"Crop\", axis=1)\n",
    "y = df[\"Crop\"]\n",
    "\n",
    "le = LabelEncoder()\n",
    "y = le.fit_transform(y)\n",
    "\n",
    "scaler = StandardScaler()\n",
    "X_scaled = scaler.fit_transform(X.select_dtypes(include=['float64','int64']))\n",
    "\n",
    "# Replace scaled values back\n",
    "X[X.select_dtypes(include=['float64','int64']).columns] = X_scaled\n",
    "\n",
    "X_train, X_test, y_train, y_test = train_test_split(X, y, test_size=0.2, random_state=42)\n"
   ]
  },
  {
   "cell_type": "code",
   "execution_count": 4,
   "id": "16908454",
   "metadata": {},
   "outputs": [],
   "source": [
    "from sklearn.model_selection import train_test_split\n",
    "from sklearn.preprocessing import LabelEncoder, StandardScaler\n",
    "\n",
    "X = df.drop(\"Crop\", axis=1)\n",
    "y = df[\"Crop\"]\n",
    "\n",
    "le = LabelEncoder()\n",
    "y = le.fit_transform(y)\n",
    "\n",
    "scaler = StandardScaler()\n",
    "X_scaled = scaler.fit_transform(X.select_dtypes(include=['float64','int64']))\n",
    "\n",
    "# Replace scaled values back\n",
    "X[X.select_dtypes(include=['float64','int64']).columns] = X_scaled\n",
    "\n",
    "X_train, X_test, y_train, y_test = train_test_split(X, y, test_size=0.2, random_state=42)\n"
   ]
  },
  {
   "cell_type": "code",
   "execution_count": 6,
   "id": "a48c18d1",
   "metadata": {},
   "outputs": [
    {
     "name": "stdout",
     "output_type": "stream",
     "text": [
      "Accuracy: 0.3865\n",
      "              precision    recall  f1-score   support\n",
      "\n",
      "      Barley       0.40      0.43      0.41      1632\n",
      "      Cotton       0.42      0.40      0.41      1785\n",
      "       Maize       0.39      0.43      0.41      1648\n",
      "        Rice       0.43      0.43      0.43      1656\n",
      "     Soybean       0.42      0.42      0.42      1641\n",
      "       Wheat       0.22      0.19      0.21      1638\n",
      "\n",
      "    accuracy                           0.39     10000\n",
      "   macro avg       0.38      0.39      0.38     10000\n",
      "weighted avg       0.38      0.39      0.38     10000\n",
      "\n"
     ]
    }
   ],
   "source": [
    "from sklearn.ensemble import RandomForestClassifier\n",
    "from sklearn.metrics import accuracy_score, classification_report\n",
    "\n",
    "# Encode categorical features using pd.get_dummies\n",
    "X_train_enc = pd.get_dummies(X_train)\n",
    "X_test_enc = pd.get_dummies(X_test)\n",
    "\n",
    "# Align columns in case some categories are missing in test/train\n",
    "X_train_enc, X_test_enc = X_train_enc.align(X_test_enc, join='left', axis=1, fill_value=0)\n",
    "\n",
    "model = RandomForestClassifier(n_estimators=200, random_state=42)\n",
    "model.fit(X_train_enc, y_train)\n",
    "\n",
    "y_pred = model.predict(X_test_enc)\n",
    "\n",
    "print(\"Accuracy:\", accuracy_score(y_test, y_pred))\n",
    "print(classification_report(y_test, y_pred, target_names=le.classes_))\n"
   ]
  },
  {
   "cell_type": "markdown",
   "id": "a9894eb2",
   "metadata": {},
   "source": []
  },
  {
   "cell_type": "code",
   "execution_count": 8,
   "id": "48dc001f",
   "metadata": {},
   "outputs": [
    {
     "name": "stdout",
     "output_type": "stream",
     "text": [
      "Predicted Crop: Wheat\n"
     ]
    }
   ],
   "source": [
    "# Prepare new sample as a DataFrame with the same columns as X_train\n",
    "new_sample_dict = {\n",
    "\t'Region': ['North'],  # Example value, update as needed\n",
    "\t'Soil_Type': ['Loamy'],\n",
    "\t'Rainfall_mm': [1200],\n",
    "\t'Temperature_Celsius': [28],\n",
    "\t'Fertilizer_Used': [True],  # Example value, update as needed\n",
    "\t'Irrigation_Used': [True],  # Example value, update as needed\n",
    "\t'Weather_Condition': ['Kharif'],  # This should match your training categories, update as needed\n",
    "\t'Days_to_Harvest': [120],\n",
    "\t'Yield_tons_per_hectare': [3.5]\n",
    "}\n",
    "new_sample_df = pd.DataFrame(new_sample_dict)\n",
    "\n",
    "# Scale numerical columns\n",
    "num_cols = X.select_dtypes(include=['float64','int64']).columns\n",
    "new_sample_df[num_cols] = scaler.transform(new_sample_df[num_cols])\n",
    "\n",
    "# Encode categorical features using pd.get_dummies\n",
    "new_sample_enc = pd.get_dummies(new_sample_df)\n",
    "\n",
    "# Align columns with training data\n",
    "new_sample_enc = new_sample_enc.reindex(columns=X_train_enc.columns, fill_value=0)\n",
    "\n",
    "# Predict\n",
    "prediction = model.predict(new_sample_enc)\n",
    "print(\"Predicted Crop:\", le.inverse_transform(prediction)[0])\n"
   ]
  }
 ],
 "metadata": {
  "kernelspec": {
   "display_name": "Python 3",
   "language": "python",
   "name": "python3"
  },
  "language_info": {
   "codemirror_mode": {
    "name": "ipython",
    "version": 3
   },
   "file_extension": ".py",
   "mimetype": "text/x-python",
   "name": "python",
   "nbconvert_exporter": "python",
   "pygments_lexer": "ipython3",
   "version": "3.13.3"
  }
 },
 "nbformat": 4,
 "nbformat_minor": 5
}
