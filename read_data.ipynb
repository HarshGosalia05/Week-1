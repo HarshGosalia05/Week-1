{
 "cells": [
  {
   "cell_type": "code",
   "execution_count": 1,
   "id": "8e17a90e",
   "metadata": {},
   "outputs": [
    {
     "name": "stdout",
     "output_type": "stream",
     "text": [
      "  Region Soil_Type    Crop  Rainfall_mm  Temperature_Celsius  Fertilizer_Used  \\\n",
      "0  North      Loam   Maize   269.628359            33.568049             True   \n",
      "1  South      Silt  Barley   277.096946            31.503174            False   \n",
      "2  South    Chalky   Maize   872.538244            34.665578            False   \n",
      "3  North      Loam   Wheat   475.905625            28.462172            False   \n",
      "4  North      Clay    Rice   381.067981            19.256107             True   \n",
      "\n",
      "   Irrigation_Used Weather_Condition  Days_to_Harvest  Yield_tons_per_hectare  \n",
      "0             True             Sunny       100.778743                5.015345  \n",
      "1             True             Rainy        90.869031                2.850527  \n",
      "2            False             Sunny        84.610447                5.698175  \n",
      "3             True             Sunny        97.719303                3.840846  \n",
      "4            False            Cloudy        68.468178                3.166763  \n"
     ]
    }
   ],
   "source": [
    "import pandas as pd\n",
    "\n",
    "df = pd.read_csv(\"crop_yield_50000.csv\")\n",
    "print(df.head())\n"
   ]
  },
  {
   "cell_type": "code",
   "execution_count": 3,
   "id": "8a73130e",
   "metadata": {},
   "outputs": [],
   "source": [
    "from sklearn.model_selection import train_test_split\n",
    "from sklearn.preprocessing import LabelEncoder, StandardScaler\n",
    "\n",
    "X = df.drop(\"Crop\", axis=1)\n",
    "y = df[\"Crop\"]\n",
    "\n",
    "le = LabelEncoder()\n",
    "y = le.fit_transform(y)\n",
    "\n",
    "scaler = StandardScaler()\n",
    "X_scaled = scaler.fit_transform(X.select_dtypes(include=['float64','int64']))\n",
    "\n",
    "# Replace scaled values back\n",
    "X[X.select_dtypes(include=['float64','int64']).columns] = X_scaled\n",
    "\n",
    "X_train, X_test, y_train, y_test = train_test_split(X, y, test_size=0.2, random_state=42)\n"
   ]
  },
  {
   "cell_type": "code",
   "execution_count": null,
   "id": "bb17970d",
   "metadata": {},
   "outputs": [],
   "source": []
  },
  {
   "cell_type": "code",
   "execution_count": null,
   "id": "5f00e881",
   "metadata": {},
   "outputs": [],
   "source": []
  },
  {
   "cell_type": "code",
   "execution_count": null,
   "id": "7e4563b8",
   "metadata": {},
   "outputs": [],
   "source": [
    "git rm App.ipynb\n",
    "git commit -m \"Remove sensitive file\"\n",
    "git push origin main\n"
   ]
  }
 ],
 "metadata": {
  "kernelspec": {
   "display_name": "Python 3",
   "language": "python",
   "name": "python3"
  },
  "language_info": {
   "codemirror_mode": {
    "name": "ipython",
    "version": 3
   },
   "file_extension": ".py",
   "mimetype": "text/x-python",
   "name": "python",
   "nbconvert_exporter": "python",
   "pygments_lexer": "ipython3",
   "version": "3.13.3"
  }
 },
 "nbformat": 4,
 "nbformat_minor": 5
}
